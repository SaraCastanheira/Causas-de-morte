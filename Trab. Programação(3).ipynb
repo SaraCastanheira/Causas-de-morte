{
 "cells": [
  {
   "cell_type": "markdown",
   "id": "96c33cb4",
   "metadata": {},
   "source": [
    "# Quais as causas de morte em Portugal em 2021\n",
    "\n",
    "Fonte:https://transparencia.sns.gov.pt/explore/dataset/morbilidade-e-mortalidade-hospitalar/table/?sort=periodo\n"
   ]
  },
  {
   "cell_type": "code",
   "execution_count": 1,
   "id": "549d73c2",
   "metadata": {},
   "outputs": [
    {
     "data": {
      "text/html": [
       "<div>\n",
       "<style scoped>\n",
       "    .dataframe tbody tr th:only-of-type {\n",
       "        vertical-align: middle;\n",
       "    }\n",
       "\n",
       "    .dataframe tbody tr th {\n",
       "        vertical-align: top;\n",
       "    }\n",
       "\n",
       "    .dataframe thead th {\n",
       "        text-align: right;\n",
       "    }\n",
       "</style>\n",
       "<table border=\"1\" class=\"dataframe\">\n",
       "  <thead>\n",
       "    <tr style=\"text-align: right;\">\n",
       "      <th></th>\n",
       "      <th>Período</th>\n",
       "      <th>Código Capítulo Diagnóstico ICD9CM/ICD10CMPCS</th>\n",
       "      <th>Descrição Capítulo Diagnóstico ICD9CM/ICD10CMPCS</th>\n",
       "      <th>Instituição</th>\n",
       "      <th>Região</th>\n",
       "      <th>Faixa Etária</th>\n",
       "      <th>Género</th>\n",
       "      <th>Internamentos</th>\n",
       "      <th>Dias de Internamento</th>\n",
       "      <th>Ambulatório</th>\n",
       "      <th>Óbitos</th>\n",
       "    </tr>\n",
       "  </thead>\n",
       "  <tbody>\n",
       "    <tr>\n",
       "      <th>0</th>\n",
       "      <td>2021-03-01</td>\n",
       "      <td>9</td>\n",
       "      <td>Doenças do aparelho circulatório</td>\n",
       "      <td>Centro Hospitalar Universitário de S. João, E....</td>\n",
       "      <td>Região de Saúde do Norte</td>\n",
       "      <td>[5-15[</td>\n",
       "      <td>M</td>\n",
       "      <td>2</td>\n",
       "      <td>4</td>\n",
       "      <td>0</td>\n",
       "      <td>0</td>\n",
       "    </tr>\n",
       "    <tr>\n",
       "      <th>1</th>\n",
       "      <td>2021-03-01</td>\n",
       "      <td>9</td>\n",
       "      <td>Doenças do aparelho circulatório</td>\n",
       "      <td>Centro Hospitalar Universitário do Algarve, E....</td>\n",
       "      <td>Região de Saúde do Algarve</td>\n",
       "      <td>[15-25[</td>\n",
       "      <td>F</td>\n",
       "      <td>2</td>\n",
       "      <td>18</td>\n",
       "      <td>0</td>\n",
       "      <td>0</td>\n",
       "    </tr>\n",
       "    <tr>\n",
       "      <th>2</th>\n",
       "      <td>2021-03-01</td>\n",
       "      <td>9</td>\n",
       "      <td>Doenças do aparelho circulatório</td>\n",
       "      <td>Centro Hospitalar Universitário do Algarve, E....</td>\n",
       "      <td>Região de Saúde do Algarve</td>\n",
       "      <td>[65-120[</td>\n",
       "      <td>M</td>\n",
       "      <td>157</td>\n",
       "      <td>2056</td>\n",
       "      <td>4</td>\n",
       "      <td>23</td>\n",
       "    </tr>\n",
       "    <tr>\n",
       "      <th>3</th>\n",
       "      <td>2021-03-01</td>\n",
       "      <td>9</td>\n",
       "      <td>Doenças do aparelho circulatório</td>\n",
       "      <td>Centro Hospitalar Universitário do Porto, E.P.E.</td>\n",
       "      <td>Região de Saúde do Norte</td>\n",
       "      <td>[25-45[</td>\n",
       "      <td>M</td>\n",
       "      <td>9</td>\n",
       "      <td>57</td>\n",
       "      <td>5</td>\n",
       "      <td>0</td>\n",
       "    </tr>\n",
       "    <tr>\n",
       "      <th>4</th>\n",
       "      <td>2021-03-01</td>\n",
       "      <td>9</td>\n",
       "      <td>Doenças do aparelho circulatório</td>\n",
       "      <td>Centro Hospitalar Universitário Lisboa Central...</td>\n",
       "      <td>Região de Saúde LVT</td>\n",
       "      <td>[25-45[</td>\n",
       "      <td>M</td>\n",
       "      <td>25</td>\n",
       "      <td>118</td>\n",
       "      <td>4</td>\n",
       "      <td>0</td>\n",
       "    </tr>\n",
       "  </tbody>\n",
       "</table>\n",
       "</div>"
      ],
      "text/plain": [
       "     Período  Código Capítulo Diagnóstico ICD9CM/ICD10CMPCS  \\\n",
       "0 2021-03-01                                              9   \n",
       "1 2021-03-01                                              9   \n",
       "2 2021-03-01                                              9   \n",
       "3 2021-03-01                                              9   \n",
       "4 2021-03-01                                              9   \n",
       "\n",
       "  Descrição Capítulo Diagnóstico ICD9CM/ICD10CMPCS  \\\n",
       "0                 Doenças do aparelho circulatório   \n",
       "1                 Doenças do aparelho circulatório   \n",
       "2                 Doenças do aparelho circulatório   \n",
       "3                 Doenças do aparelho circulatório   \n",
       "4                 Doenças do aparelho circulatório   \n",
       "\n",
       "                                         Instituição  \\\n",
       "0  Centro Hospitalar Universitário de S. João, E....   \n",
       "1  Centro Hospitalar Universitário do Algarve, E....   \n",
       "2  Centro Hospitalar Universitário do Algarve, E....   \n",
       "3   Centro Hospitalar Universitário do Porto, E.P.E.   \n",
       "4  Centro Hospitalar Universitário Lisboa Central...   \n",
       "\n",
       "                       Região Faixa Etária Género  Internamentos  \\\n",
       "0    Região de Saúde do Norte       [5-15[      M              2   \n",
       "1  Região de Saúde do Algarve      [15-25[      F              2   \n",
       "2  Região de Saúde do Algarve     [65-120[      M            157   \n",
       "3    Região de Saúde do Norte      [25-45[      M              9   \n",
       "4         Região de Saúde LVT      [25-45[      M             25   \n",
       "\n",
       "   Dias de Internamento  Ambulatório  Óbitos  \n",
       "0                     4            0       0  \n",
       "1                    18            0       0  \n",
       "2                  2056            4      23  \n",
       "3                    57            5       0  \n",
       "4                   118            4       0  "
      ]
     },
     "execution_count": 1,
     "metadata": {},
     "output_type": "execute_result"
    }
   ],
   "source": [
    "#import pandas in Jupyter Notebook:\n",
    "import pandas as pd\n",
    "import matplotlib.pyplot as plt\n",
    "import numpy as np\n",
    "\n",
    "\n",
    "#dados de aparelho circulatório\n",
    "df_circ = pd.read_csv(\"aparelho_circulatorio.csv\", sep=\";\", parse_dates=['Período'])\n",
    "df_circ.head()"
   ]
  },
  {
   "cell_type": "code",
   "execution_count": 2,
   "id": "075a6d68",
   "metadata": {},
   "outputs": [
    {
     "data": {
      "text/html": [
       "<div>\n",
       "<style scoped>\n",
       "    .dataframe tbody tr th:only-of-type {\n",
       "        vertical-align: middle;\n",
       "    }\n",
       "\n",
       "    .dataframe tbody tr th {\n",
       "        vertical-align: top;\n",
       "    }\n",
       "\n",
       "    .dataframe thead th {\n",
       "        text-align: right;\n",
       "    }\n",
       "</style>\n",
       "<table border=\"1\" class=\"dataframe\">\n",
       "  <thead>\n",
       "    <tr style=\"text-align: right;\">\n",
       "      <th></th>\n",
       "      <th>Período</th>\n",
       "      <th>Código Capítulo Diagnóstico ICD9CM/ICD10CMPCS</th>\n",
       "      <th>Descrição Capítulo Diagnóstico ICD9CM/ICD10CMPCS</th>\n",
       "      <th>Instituição</th>\n",
       "      <th>Região</th>\n",
       "      <th>Faixa Etária</th>\n",
       "      <th>Género</th>\n",
       "      <th>Internamentos</th>\n",
       "      <th>Dias de Internamento</th>\n",
       "      <th>Ambulatório</th>\n",
       "      <th>Óbitos</th>\n",
       "    </tr>\n",
       "  </thead>\n",
       "  <tbody>\n",
       "    <tr>\n",
       "      <th>0</th>\n",
       "      <td>2021-03-01</td>\n",
       "      <td>9</td>\n",
       "      <td>Doenças do aparelho circulatório</td>\n",
       "      <td>Centro Hospitalar Universitário de S. João, E....</td>\n",
       "      <td>Região de Saúde do Norte</td>\n",
       "      <td>[5-15[</td>\n",
       "      <td>M</td>\n",
       "      <td>2</td>\n",
       "      <td>4</td>\n",
       "      <td>0</td>\n",
       "      <td>0</td>\n",
       "    </tr>\n",
       "    <tr>\n",
       "      <th>1</th>\n",
       "      <td>2021-03-01</td>\n",
       "      <td>9</td>\n",
       "      <td>Doenças do aparelho circulatório</td>\n",
       "      <td>Centro Hospitalar Universitário do Algarve, E....</td>\n",
       "      <td>Região de Saúde do Algarve</td>\n",
       "      <td>[15-25[</td>\n",
       "      <td>F</td>\n",
       "      <td>2</td>\n",
       "      <td>18</td>\n",
       "      <td>0</td>\n",
       "      <td>0</td>\n",
       "    </tr>\n",
       "    <tr>\n",
       "      <th>2</th>\n",
       "      <td>2021-03-01</td>\n",
       "      <td>9</td>\n",
       "      <td>Doenças do aparelho circulatório</td>\n",
       "      <td>Centro Hospitalar Universitário do Algarve, E....</td>\n",
       "      <td>Região de Saúde do Algarve</td>\n",
       "      <td>[65-120[</td>\n",
       "      <td>M</td>\n",
       "      <td>157</td>\n",
       "      <td>2056</td>\n",
       "      <td>4</td>\n",
       "      <td>23</td>\n",
       "    </tr>\n",
       "    <tr>\n",
       "      <th>3</th>\n",
       "      <td>2021-03-01</td>\n",
       "      <td>9</td>\n",
       "      <td>Doenças do aparelho circulatório</td>\n",
       "      <td>Centro Hospitalar Universitário do Porto, E.P.E.</td>\n",
       "      <td>Região de Saúde do Norte</td>\n",
       "      <td>[25-45[</td>\n",
       "      <td>M</td>\n",
       "      <td>9</td>\n",
       "      <td>57</td>\n",
       "      <td>5</td>\n",
       "      <td>0</td>\n",
       "    </tr>\n",
       "    <tr>\n",
       "      <th>4</th>\n",
       "      <td>2021-03-01</td>\n",
       "      <td>9</td>\n",
       "      <td>Doenças do aparelho circulatório</td>\n",
       "      <td>Centro Hospitalar Universitário Lisboa Central...</td>\n",
       "      <td>Região de Saúde LVT</td>\n",
       "      <td>[25-45[</td>\n",
       "      <td>M</td>\n",
       "      <td>25</td>\n",
       "      <td>118</td>\n",
       "      <td>4</td>\n",
       "      <td>0</td>\n",
       "    </tr>\n",
       "  </tbody>\n",
       "</table>\n",
       "</div>"
      ],
      "text/plain": [
       "     Período  Código Capítulo Diagnóstico ICD9CM/ICD10CMPCS  \\\n",
       "0 2021-03-01                                              9   \n",
       "1 2021-03-01                                              9   \n",
       "2 2021-03-01                                              9   \n",
       "3 2021-03-01                                              9   \n",
       "4 2021-03-01                                              9   \n",
       "\n",
       "  Descrição Capítulo Diagnóstico ICD9CM/ICD10CMPCS  \\\n",
       "0                 Doenças do aparelho circulatório   \n",
       "1                 Doenças do aparelho circulatório   \n",
       "2                 Doenças do aparelho circulatório   \n",
       "3                 Doenças do aparelho circulatório   \n",
       "4                 Doenças do aparelho circulatório   \n",
       "\n",
       "                                         Instituição  \\\n",
       "0  Centro Hospitalar Universitário de S. João, E....   \n",
       "1  Centro Hospitalar Universitário do Algarve, E....   \n",
       "2  Centro Hospitalar Universitário do Algarve, E....   \n",
       "3   Centro Hospitalar Universitário do Porto, E.P.E.   \n",
       "4  Centro Hospitalar Universitário Lisboa Central...   \n",
       "\n",
       "                       Região Faixa Etária Género  Internamentos  \\\n",
       "0    Região de Saúde do Norte       [5-15[      M              2   \n",
       "1  Região de Saúde do Algarve      [15-25[      F              2   \n",
       "2  Região de Saúde do Algarve     [65-120[      M            157   \n",
       "3    Região de Saúde do Norte      [25-45[      M              9   \n",
       "4         Região de Saúde LVT      [25-45[      M             25   \n",
       "\n",
       "   Dias de Internamento  Ambulatório  Óbitos  \n",
       "0                     4            0       0  \n",
       "1                    18            0       0  \n",
       "2                  2056            4      23  \n",
       "3                    57            5       0  \n",
       "4                   118            4       0  "
      ]
     },
     "execution_count": 2,
     "metadata": {},
     "output_type": "execute_result"
    }
   ],
   "source": [
    "#descartar a coluna de código\n",
    "df_circ.drop(columns=['Código Capítulo Diagnóstico ICD9CM/ICD10CMPCS'])\n",
    "df_circ.head()"
   ]
  },
  {
   "cell_type": "code",
   "execution_count": 3,
   "id": "6a3ca7c2",
   "metadata": {},
   "outputs": [
    {
     "data": {
      "text/html": [
       "<div>\n",
       "<style scoped>\n",
       "    .dataframe tbody tr th:only-of-type {\n",
       "        vertical-align: middle;\n",
       "    }\n",
       "\n",
       "    .dataframe tbody tr th {\n",
       "        vertical-align: top;\n",
       "    }\n",
       "\n",
       "    .dataframe thead th {\n",
       "        text-align: right;\n",
       "    }\n",
       "</style>\n",
       "<table border=\"1\" class=\"dataframe\">\n",
       "  <thead>\n",
       "    <tr style=\"text-align: right;\">\n",
       "      <th></th>\n",
       "      <th>Período</th>\n",
       "      <th>Descrição Capítulo Diagnóstico ICD9CM/ICD10CMPCS</th>\n",
       "      <th>Instituição</th>\n",
       "      <th>Região</th>\n",
       "      <th>Faixa Etária</th>\n",
       "      <th>Género</th>\n",
       "      <th>Internamentos</th>\n",
       "      <th>Dias de Internamento</th>\n",
       "      <th>Ambulatório</th>\n",
       "      <th>Óbitos</th>\n",
       "    </tr>\n",
       "  </thead>\n",
       "  <tbody>\n",
       "    <tr>\n",
       "      <th>0</th>\n",
       "      <td>2021-03-01</td>\n",
       "      <td>Doenças do aparelho circulatório</td>\n",
       "      <td>Centro Hospitalar Universitário de S. João, E....</td>\n",
       "      <td>Região de Saúde do Norte</td>\n",
       "      <td>[5-15[</td>\n",
       "      <td>M</td>\n",
       "      <td>2</td>\n",
       "      <td>4</td>\n",
       "      <td>0</td>\n",
       "      <td>0</td>\n",
       "    </tr>\n",
       "    <tr>\n",
       "      <th>1</th>\n",
       "      <td>2021-03-01</td>\n",
       "      <td>Doenças do aparelho circulatório</td>\n",
       "      <td>Centro Hospitalar Universitário do Algarve, E....</td>\n",
       "      <td>Região de Saúde do Algarve</td>\n",
       "      <td>[15-25[</td>\n",
       "      <td>F</td>\n",
       "      <td>2</td>\n",
       "      <td>18</td>\n",
       "      <td>0</td>\n",
       "      <td>0</td>\n",
       "    </tr>\n",
       "    <tr>\n",
       "      <th>2</th>\n",
       "      <td>2021-03-01</td>\n",
       "      <td>Doenças do aparelho circulatório</td>\n",
       "      <td>Centro Hospitalar Universitário do Algarve, E....</td>\n",
       "      <td>Região de Saúde do Algarve</td>\n",
       "      <td>[65-120[</td>\n",
       "      <td>M</td>\n",
       "      <td>157</td>\n",
       "      <td>2056</td>\n",
       "      <td>4</td>\n",
       "      <td>23</td>\n",
       "    </tr>\n",
       "    <tr>\n",
       "      <th>3</th>\n",
       "      <td>2021-03-01</td>\n",
       "      <td>Doenças do aparelho circulatório</td>\n",
       "      <td>Centro Hospitalar Universitário do Porto, E.P.E.</td>\n",
       "      <td>Região de Saúde do Norte</td>\n",
       "      <td>[25-45[</td>\n",
       "      <td>M</td>\n",
       "      <td>9</td>\n",
       "      <td>57</td>\n",
       "      <td>5</td>\n",
       "      <td>0</td>\n",
       "    </tr>\n",
       "    <tr>\n",
       "      <th>4</th>\n",
       "      <td>2021-03-01</td>\n",
       "      <td>Doenças do aparelho circulatório</td>\n",
       "      <td>Centro Hospitalar Universitário Lisboa Central...</td>\n",
       "      <td>Região de Saúde LVT</td>\n",
       "      <td>[25-45[</td>\n",
       "      <td>M</td>\n",
       "      <td>25</td>\n",
       "      <td>118</td>\n",
       "      <td>4</td>\n",
       "      <td>0</td>\n",
       "    </tr>\n",
       "  </tbody>\n",
       "</table>\n",
       "</div>"
      ],
      "text/plain": [
       "     Período Descrição Capítulo Diagnóstico ICD9CM/ICD10CMPCS  \\\n",
       "0 2021-03-01                 Doenças do aparelho circulatório   \n",
       "1 2021-03-01                 Doenças do aparelho circulatório   \n",
       "2 2021-03-01                 Doenças do aparelho circulatório   \n",
       "3 2021-03-01                 Doenças do aparelho circulatório   \n",
       "4 2021-03-01                 Doenças do aparelho circulatório   \n",
       "\n",
       "                                         Instituição  \\\n",
       "0  Centro Hospitalar Universitário de S. João, E....   \n",
       "1  Centro Hospitalar Universitário do Algarve, E....   \n",
       "2  Centro Hospitalar Universitário do Algarve, E....   \n",
       "3   Centro Hospitalar Universitário do Porto, E.P.E.   \n",
       "4  Centro Hospitalar Universitário Lisboa Central...   \n",
       "\n",
       "                       Região Faixa Etária Género  Internamentos  \\\n",
       "0    Região de Saúde do Norte       [5-15[      M              2   \n",
       "1  Região de Saúde do Algarve      [15-25[      F              2   \n",
       "2  Região de Saúde do Algarve     [65-120[      M            157   \n",
       "3    Região de Saúde do Norte      [25-45[      M              9   \n",
       "4         Região de Saúde LVT      [25-45[      M             25   \n",
       "\n",
       "   Dias de Internamento  Ambulatório  Óbitos  \n",
       "0                     4            0       0  \n",
       "1                    18            0       0  \n",
       "2                  2056            4      23  \n",
       "3                    57            5       0  \n",
       "4                   118            4       0  "
      ]
     },
     "execution_count": 3,
     "metadata": {},
     "output_type": "execute_result"
    }
   ],
   "source": [
    "df_circ = df_circ.drop(columns=['Código Capítulo Diagnóstico ICD9CM/ICD10CMPCS'])\n",
    "df_circ.head()"
   ]
  },
  {
   "cell_type": "code",
   "execution_count": 4,
   "id": "9b64c308",
   "metadata": {},
   "outputs": [
    {
     "data": {
      "text/html": [
       "<div>\n",
       "<style scoped>\n",
       "    .dataframe tbody tr th:only-of-type {\n",
       "        vertical-align: middle;\n",
       "    }\n",
       "\n",
       "    .dataframe tbody tr th {\n",
       "        vertical-align: top;\n",
       "    }\n",
       "\n",
       "    .dataframe thead th {\n",
       "        text-align: right;\n",
       "    }\n",
       "</style>\n",
       "<table border=\"1\" class=\"dataframe\">\n",
       "  <thead>\n",
       "    <tr style=\"text-align: right;\">\n",
       "      <th></th>\n",
       "      <th>Período</th>\n",
       "      <th>Descrição da doença</th>\n",
       "      <th>Instituição</th>\n",
       "      <th>Região</th>\n",
       "      <th>Faixa Etária</th>\n",
       "      <th>Género</th>\n",
       "      <th>Internamentos</th>\n",
       "      <th>Dias de Internamento</th>\n",
       "      <th>Ambulatório</th>\n",
       "      <th>Óbitos</th>\n",
       "    </tr>\n",
       "  </thead>\n",
       "  <tbody>\n",
       "    <tr>\n",
       "      <th>0</th>\n",
       "      <td>2021-03-01</td>\n",
       "      <td>Doenças do aparelho circulatório</td>\n",
       "      <td>Centro Hospitalar Universitário de S. João, E....</td>\n",
       "      <td>Região de Saúde do Norte</td>\n",
       "      <td>[5-15[</td>\n",
       "      <td>M</td>\n",
       "      <td>2</td>\n",
       "      <td>4</td>\n",
       "      <td>0</td>\n",
       "      <td>0</td>\n",
       "    </tr>\n",
       "    <tr>\n",
       "      <th>1</th>\n",
       "      <td>2021-03-01</td>\n",
       "      <td>Doenças do aparelho circulatório</td>\n",
       "      <td>Centro Hospitalar Universitário do Algarve, E....</td>\n",
       "      <td>Região de Saúde do Algarve</td>\n",
       "      <td>[15-25[</td>\n",
       "      <td>F</td>\n",
       "      <td>2</td>\n",
       "      <td>18</td>\n",
       "      <td>0</td>\n",
       "      <td>0</td>\n",
       "    </tr>\n",
       "    <tr>\n",
       "      <th>2</th>\n",
       "      <td>2021-03-01</td>\n",
       "      <td>Doenças do aparelho circulatório</td>\n",
       "      <td>Centro Hospitalar Universitário do Algarve, E....</td>\n",
       "      <td>Região de Saúde do Algarve</td>\n",
       "      <td>[65-120[</td>\n",
       "      <td>M</td>\n",
       "      <td>157</td>\n",
       "      <td>2056</td>\n",
       "      <td>4</td>\n",
       "      <td>23</td>\n",
       "    </tr>\n",
       "    <tr>\n",
       "      <th>3</th>\n",
       "      <td>2021-03-01</td>\n",
       "      <td>Doenças do aparelho circulatório</td>\n",
       "      <td>Centro Hospitalar Universitário do Porto, E.P.E.</td>\n",
       "      <td>Região de Saúde do Norte</td>\n",
       "      <td>[25-45[</td>\n",
       "      <td>M</td>\n",
       "      <td>9</td>\n",
       "      <td>57</td>\n",
       "      <td>5</td>\n",
       "      <td>0</td>\n",
       "    </tr>\n",
       "    <tr>\n",
       "      <th>4</th>\n",
       "      <td>2021-03-01</td>\n",
       "      <td>Doenças do aparelho circulatório</td>\n",
       "      <td>Centro Hospitalar Universitário Lisboa Central...</td>\n",
       "      <td>Região de Saúde LVT</td>\n",
       "      <td>[25-45[</td>\n",
       "      <td>M</td>\n",
       "      <td>25</td>\n",
       "      <td>118</td>\n",
       "      <td>4</td>\n",
       "      <td>0</td>\n",
       "    </tr>\n",
       "  </tbody>\n",
       "</table>\n",
       "</div>"
      ],
      "text/plain": [
       "     Período               Descrição da doença  \\\n",
       "0 2021-03-01  Doenças do aparelho circulatório   \n",
       "1 2021-03-01  Doenças do aparelho circulatório   \n",
       "2 2021-03-01  Doenças do aparelho circulatório   \n",
       "3 2021-03-01  Doenças do aparelho circulatório   \n",
       "4 2021-03-01  Doenças do aparelho circulatório   \n",
       "\n",
       "                                         Instituição  \\\n",
       "0  Centro Hospitalar Universitário de S. João, E....   \n",
       "1  Centro Hospitalar Universitário do Algarve, E....   \n",
       "2  Centro Hospitalar Universitário do Algarve, E....   \n",
       "3   Centro Hospitalar Universitário do Porto, E.P.E.   \n",
       "4  Centro Hospitalar Universitário Lisboa Central...   \n",
       "\n",
       "                       Região Faixa Etária Género  Internamentos  \\\n",
       "0    Região de Saúde do Norte       [5-15[      M              2   \n",
       "1  Região de Saúde do Algarve      [15-25[      F              2   \n",
       "2  Região de Saúde do Algarve     [65-120[      M            157   \n",
       "3    Região de Saúde do Norte      [25-45[      M              9   \n",
       "4         Região de Saúde LVT      [25-45[      M             25   \n",
       "\n",
       "   Dias de Internamento  Ambulatório  Óbitos  \n",
       "0                     4            0       0  \n",
       "1                    18            0       0  \n",
       "2                  2056            4      23  \n",
       "3                    57            5       0  \n",
       "4                   118            4       0  "
      ]
     },
     "execution_count": 4,
     "metadata": {},
     "output_type": "execute_result"
    }
   ],
   "source": [
    "#alterar o nome da coluna de descrição do diagnóstico para simplificar\n",
    "df_circ = df_circ.rename({'Descrição Capítulo Diagnóstico ICD9CM/ICD10CMPCS': 'Descrição da doença'}, axis = 1)\n",
    "df_circ.head()"
   ]
  },
  {
   "cell_type": "code",
   "execution_count": 5,
   "id": "adb7f6b8",
   "metadata": {},
   "outputs": [
    {
     "data": {
      "text/html": [
       "<div>\n",
       "<style scoped>\n",
       "    .dataframe tbody tr th:only-of-type {\n",
       "        vertical-align: middle;\n",
       "    }\n",
       "\n",
       "    .dataframe tbody tr th {\n",
       "        vertical-align: top;\n",
       "    }\n",
       "\n",
       "    .dataframe thead th {\n",
       "        text-align: right;\n",
       "    }\n",
       "</style>\n",
       "<table border=\"1\" class=\"dataframe\">\n",
       "  <thead>\n",
       "    <tr style=\"text-align: right;\">\n",
       "      <th></th>\n",
       "      <th>Período</th>\n",
       "      <th>Descrição da doença</th>\n",
       "      <th>Instituição</th>\n",
       "      <th>Região</th>\n",
       "      <th>Faixa Etária</th>\n",
       "      <th>Género</th>\n",
       "      <th>Internamentos</th>\n",
       "      <th>Dias de Internamento</th>\n",
       "      <th>Ambulatório</th>\n",
       "      <th>Óbitos</th>\n",
       "    </tr>\n",
       "  </thead>\n",
       "  <tbody>\n",
       "    <tr>\n",
       "      <th>0</th>\n",
       "      <td>2021-03-01</td>\n",
       "      <td>Doenças do aparelho respiratório</td>\n",
       "      <td>Centro Hospitalar Universitário Lisboa Central...</td>\n",
       "      <td>Região de Saúde LVT</td>\n",
       "      <td>[65-120[</td>\n",
       "      <td>M</td>\n",
       "      <td>21</td>\n",
       "      <td>288</td>\n",
       "      <td>0</td>\n",
       "      <td>3</td>\n",
       "    </tr>\n",
       "    <tr>\n",
       "      <th>1</th>\n",
       "      <td>2021-03-01</td>\n",
       "      <td>Doenças do aparelho respiratório</td>\n",
       "      <td>Hospital Beatriz Ângelo - Loures</td>\n",
       "      <td>Região de Saúde LVT</td>\n",
       "      <td>[15-25[</td>\n",
       "      <td>M</td>\n",
       "      <td>3</td>\n",
       "      <td>148</td>\n",
       "      <td>0</td>\n",
       "      <td>0</td>\n",
       "    </tr>\n",
       "    <tr>\n",
       "      <th>2</th>\n",
       "      <td>2021-03-01</td>\n",
       "      <td>Doenças do aparelho respiratório</td>\n",
       "      <td>Hospital Beatriz Ângelo - Loures</td>\n",
       "      <td>Região de Saúde LVT</td>\n",
       "      <td>[45-65[</td>\n",
       "      <td>M</td>\n",
       "      <td>11</td>\n",
       "      <td>149</td>\n",
       "      <td>1</td>\n",
       "      <td>0</td>\n",
       "    </tr>\n",
       "    <tr>\n",
       "      <th>3</th>\n",
       "      <td>2021-03-01</td>\n",
       "      <td>Doenças do aparelho respiratório</td>\n",
       "      <td>Hospital da Horta, E.P.E.</td>\n",
       "      <td>Região de Saúde dos Açores</td>\n",
       "      <td>[15-25[</td>\n",
       "      <td>M</td>\n",
       "      <td>2</td>\n",
       "      <td>8</td>\n",
       "      <td>0</td>\n",
       "      <td>0</td>\n",
       "    </tr>\n",
       "    <tr>\n",
       "      <th>4</th>\n",
       "      <td>2021-03-01</td>\n",
       "      <td>Doenças do aparelho respiratório</td>\n",
       "      <td>Hospital de Braga, E.P.E.</td>\n",
       "      <td>Região de Saúde do Norte</td>\n",
       "      <td>[45-65[</td>\n",
       "      <td>M</td>\n",
       "      <td>22</td>\n",
       "      <td>102</td>\n",
       "      <td>0</td>\n",
       "      <td>0</td>\n",
       "    </tr>\n",
       "  </tbody>\n",
       "</table>\n",
       "</div>"
      ],
      "text/plain": [
       "     Período               Descrição da doença  \\\n",
       "0 2021-03-01  Doenças do aparelho respiratório   \n",
       "1 2021-03-01  Doenças do aparelho respiratório   \n",
       "2 2021-03-01  Doenças do aparelho respiratório   \n",
       "3 2021-03-01  Doenças do aparelho respiratório   \n",
       "4 2021-03-01  Doenças do aparelho respiratório   \n",
       "\n",
       "                                         Instituição  \\\n",
       "0  Centro Hospitalar Universitário Lisboa Central...   \n",
       "1                   Hospital Beatriz Ângelo - Loures   \n",
       "2                   Hospital Beatriz Ângelo - Loures   \n",
       "3                          Hospital da Horta, E.P.E.   \n",
       "4                          Hospital de Braga, E.P.E.   \n",
       "\n",
       "                       Região Faixa Etária Género  Internamentos  \\\n",
       "0         Região de Saúde LVT     [65-120[      M             21   \n",
       "1         Região de Saúde LVT      [15-25[      M              3   \n",
       "2         Região de Saúde LVT      [45-65[      M             11   \n",
       "3  Região de Saúde dos Açores      [15-25[      M              2   \n",
       "4    Região de Saúde do Norte      [45-65[      M             22   \n",
       "\n",
       "   Dias de Internamento  Ambulatório  Óbitos  \n",
       "0                   288            0       3  \n",
       "1                   148            0       0  \n",
       "2                   149            1       0  \n",
       "3                     8            0       0  \n",
       "4                   102            0       0  "
      ]
     },
     "execution_count": 5,
     "metadata": {},
     "output_type": "execute_result"
    }
   ],
   "source": [
    "#dados de aparelho respiratório\n",
    "df_respira = pd.read_csv(\"aparelho_respiratorio.csv\", sep=\";\", parse_dates=['Período'])\n",
    "\n",
    "#descartar a coluna de código\n",
    "df_respira.drop(columns=['Código Capítulo Diagnóstico ICD9CM/ICD10CMPCS'])\n",
    "df_respira = df_respira.drop(columns=['Código Capítulo Diagnóstico ICD9CM/ICD10CMPCS'])\n",
    "\n",
    "#alterar o nome da coluna de descrição do diagnóstico para simplificar\n",
    "df_respira = df_respira.rename({'Descrição Capítulo Diagnóstico ICD9CM/ICD10CMPCS': 'Descrição da doença'}, axis = 1)\n",
    "df_respira.head()"
   ]
  },
  {
   "cell_type": "code",
   "execution_count": 6,
   "id": "02495f93",
   "metadata": {},
   "outputs": [
    {
     "data": {
      "text/html": [
       "<div>\n",
       "<style scoped>\n",
       "    .dataframe tbody tr th:only-of-type {\n",
       "        vertical-align: middle;\n",
       "    }\n",
       "\n",
       "    .dataframe tbody tr th {\n",
       "        vertical-align: top;\n",
       "    }\n",
       "\n",
       "    .dataframe thead th {\n",
       "        text-align: right;\n",
       "    }\n",
       "</style>\n",
       "<table border=\"1\" class=\"dataframe\">\n",
       "  <thead>\n",
       "    <tr style=\"text-align: right;\">\n",
       "      <th></th>\n",
       "      <th>Período</th>\n",
       "      <th>Descrição da doença</th>\n",
       "      <th>Instituição</th>\n",
       "      <th>Região</th>\n",
       "      <th>Faixa Etária</th>\n",
       "      <th>Género</th>\n",
       "      <th>Internamentos</th>\n",
       "      <th>Dias de Internamento</th>\n",
       "      <th>Ambulatório</th>\n",
       "      <th>Óbitos</th>\n",
       "    </tr>\n",
       "  </thead>\n",
       "  <tbody>\n",
       "    <tr>\n",
       "      <th>0</th>\n",
       "      <td>2021-03-01</td>\n",
       "      <td>Transtornos mentais, comportamentais e de neur...</td>\n",
       "      <td>Centro Hospitalar de Leiria, E.P.E.</td>\n",
       "      <td>Região de Saúde do Centro</td>\n",
       "      <td>[15-25[</td>\n",
       "      <td>M</td>\n",
       "      <td>4</td>\n",
       "      <td>85</td>\n",
       "      <td>0</td>\n",
       "      <td>0</td>\n",
       "    </tr>\n",
       "    <tr>\n",
       "      <th>1</th>\n",
       "      <td>2021-03-01</td>\n",
       "      <td>Transtornos mentais, comportamentais e de neur...</td>\n",
       "      <td>Centro Hospitalar de Leiria, E.P.E.</td>\n",
       "      <td>Região de Saúde do Centro</td>\n",
       "      <td>[45-65[</td>\n",
       "      <td>F</td>\n",
       "      <td>4</td>\n",
       "      <td>79</td>\n",
       "      <td>0</td>\n",
       "      <td>0</td>\n",
       "    </tr>\n",
       "    <tr>\n",
       "      <th>2</th>\n",
       "      <td>2021-03-01</td>\n",
       "      <td>Transtornos mentais, comportamentais e de neur...</td>\n",
       "      <td>Centro Hospitalar de Leiria, E.P.E.</td>\n",
       "      <td>Região de Saúde do Centro</td>\n",
       "      <td>[45-65[</td>\n",
       "      <td>M</td>\n",
       "      <td>6</td>\n",
       "      <td>62</td>\n",
       "      <td>0</td>\n",
       "      <td>0</td>\n",
       "    </tr>\n",
       "    <tr>\n",
       "      <th>3</th>\n",
       "      <td>2021-03-01</td>\n",
       "      <td>Transtornos mentais, comportamentais e de neur...</td>\n",
       "      <td>Centro Hospitalar de Vila Nova de Gaia/Espinho...</td>\n",
       "      <td>Região de Saúde do Norte</td>\n",
       "      <td>[15-25[</td>\n",
       "      <td>F</td>\n",
       "      <td>3</td>\n",
       "      <td>19</td>\n",
       "      <td>0</td>\n",
       "      <td>0</td>\n",
       "    </tr>\n",
       "    <tr>\n",
       "      <th>4</th>\n",
       "      <td>2021-03-01</td>\n",
       "      <td>Transtornos mentais, comportamentais e de neur...</td>\n",
       "      <td>Centro Hospitalar de Vila Nova de Gaia/Espinho...</td>\n",
       "      <td>Região de Saúde do Norte</td>\n",
       "      <td>[15-25[</td>\n",
       "      <td>M</td>\n",
       "      <td>2</td>\n",
       "      <td>6</td>\n",
       "      <td>0</td>\n",
       "      <td>0</td>\n",
       "    </tr>\n",
       "  </tbody>\n",
       "</table>\n",
       "</div>"
      ],
      "text/plain": [
       "     Período                                Descrição da doença  \\\n",
       "0 2021-03-01  Transtornos mentais, comportamentais e de neur...   \n",
       "1 2021-03-01  Transtornos mentais, comportamentais e de neur...   \n",
       "2 2021-03-01  Transtornos mentais, comportamentais e de neur...   \n",
       "3 2021-03-01  Transtornos mentais, comportamentais e de neur...   \n",
       "4 2021-03-01  Transtornos mentais, comportamentais e de neur...   \n",
       "\n",
       "                                         Instituição  \\\n",
       "0                Centro Hospitalar de Leiria, E.P.E.   \n",
       "1                Centro Hospitalar de Leiria, E.P.E.   \n",
       "2                Centro Hospitalar de Leiria, E.P.E.   \n",
       "3  Centro Hospitalar de Vila Nova de Gaia/Espinho...   \n",
       "4  Centro Hospitalar de Vila Nova de Gaia/Espinho...   \n",
       "\n",
       "                      Região Faixa Etária Género  Internamentos  \\\n",
       "0  Região de Saúde do Centro      [15-25[      M              4   \n",
       "1  Região de Saúde do Centro      [45-65[      F              4   \n",
       "2  Região de Saúde do Centro      [45-65[      M              6   \n",
       "3   Região de Saúde do Norte      [15-25[      F              3   \n",
       "4   Região de Saúde do Norte      [15-25[      M              2   \n",
       "\n",
       "   Dias de Internamento  Ambulatório  Óbitos  \n",
       "0                    85            0       0  \n",
       "1                    79            0       0  \n",
       "2                    62            0       0  \n",
       "3                    19            0       0  \n",
       "4                     6            0       0  "
      ]
     },
     "execution_count": 6,
     "metadata": {},
     "output_type": "execute_result"
    }
   ],
   "source": [
    "#dados de perturbações mentais\n",
    "df_mental = pd.read_csv(\"perturbaçoes_mentais.csv\", sep=\";\", parse_dates=['Período'])\n",
    "\n",
    "#descartar a coluna de código\n",
    "df_mental.drop(columns=['Código Capítulo Diagnóstico ICD9CM/ICD10CMPCS'])\n",
    "df_mental = df_mental.drop(columns=['Código Capítulo Diagnóstico ICD9CM/ICD10CMPCS'])\n",
    "\n",
    "#alterar o nome da coluna de descrição do diagnóstico para simplificar\n",
    "df_mental = df_mental.rename({'Descrição Capítulo Diagnóstico ICD9CM/ICD10CMPCS': 'Descrição da doença'}, axis = 1)\n",
    "df_mental.head()"
   ]
  },
  {
   "cell_type": "code",
   "execution_count": 7,
   "id": "ca42d8eb",
   "metadata": {},
   "outputs": [
    {
     "data": {
      "text/plain": [
       "Período                 datetime64[ns]\n",
       "Descrição da doença             object\n",
       "Instituição                     object\n",
       "Região                          object\n",
       "Faixa Etária                    object\n",
       "Género                          object\n",
       "Internamentos                    int64\n",
       "Dias de Internamento             int64\n",
       "Ambulatório                      int64\n",
       "Óbitos                           int64\n",
       "dtype: object"
      ]
     },
     "execution_count": 7,
     "metadata": {},
     "output_type": "execute_result"
    }
   ],
   "source": [
    "df_mental.dtypes"
   ]
  },
  {
   "cell_type": "markdown",
   "id": "bfc797a1",
   "metadata": {},
   "source": [
    "Em que período do ano, a causa de morte por transtornos mentais, comportamentais e de neurodesenvolvimento foi mais registada?"
   ]
  },
  {
   "cell_type": "code",
   "execution_count": 8,
   "id": "feda5453",
   "metadata": {},
   "outputs": [
    {
     "data": {
      "text/plain": [
       "Período    datetime64[ns]\n",
       "Óbitos              int64\n",
       "dtype: object"
      ]
     },
     "execution_count": 8,
     "metadata": {},
     "output_type": "execute_result"
    }
   ],
   "source": [
    "#Como cada coluna é armanezada\n",
    "data_frame = df_mental.loc[ : ,[\"Período\", \"Óbitos\"]]\n",
    "data_frame.dtypes"
   ]
  },
  {
   "cell_type": "code",
   "execution_count": 9,
   "id": "32b0ad95",
   "metadata": {},
   "outputs": [
    {
     "name": "stdout",
     "output_type": "stream",
     "text": [
      "            Óbitos\n",
      "Período           \n",
      "2021-01-01      22\n",
      "2021-02-01      15\n",
      "2021-03-01      13\n",
      "2021-04-01      10\n",
      "2021-05-01      14\n",
      "2021-06-01      16\n",
      "2021-07-01       7\n",
      "2021-08-01      13\n",
      "2021-09-01      11\n",
      "2021-10-01       7\n",
      "2021-11-01      13\n",
      "2021-12-01       4\n"
     ]
    }
   ],
   "source": [
    "#Agrupar o número de óbitos por período\n",
    "grouped_by_periodo = data_frame.groupby(\"Período\")\n",
    "print(grouped_by_periodo.sum())"
   ]
  },
  {
   "cell_type": "code",
   "execution_count": 10,
   "id": "350b8844",
   "metadata": {
    "scrolled": true
   },
   "outputs": [
    {
     "data": {
      "image/png": "[encoded data removed]",
      "text/plain": [
       "<Figure size 750x400 with 1 Axes>"
      ]
     },
     "metadata": {
      "needs_background": "light"
     },
     "output_type": "display_data"
    }
   ],
   "source": [
    "#Construção do gráfico de linhas para o número de óbitos por mês no ano de 2021\n",
    "obitos = grouped_by_periodo.sum()\n",
    "\n",
    "fig, ax = plt.subplots(figsize=(15,8), dpi=50)\n",
    "ax.plot(obitos)\n",
    "ax.yaxis.set_major_formatter((lambda x, p: format(int(x), ',')))\n",
    "plt.xlabel('Meses do ano 2021')\n",
    "plt.ylabel('Número de óbitos')\n",
    "\n",
    "plt.title('Mortalidade em Portugal no ano de 2021')\n",
    "plt.show()"
   ]
  },
  {
   "cell_type": "markdown",
   "id": "478dc06d",
   "metadata": {},
   "source": [
    "Em que sexo há maior taxa de mortalidade?"
   ]
  },
  {
   "cell_type": "code",
   "execution_count": 11,
   "id": "5b229062",
   "metadata": {},
   "outputs": [
    {
     "name": "stdout",
     "output_type": "stream",
     "text": [
      "        Internamentos  Dias de Internamento  Ambulatório  Óbitos\n",
      "Género                                                          \n",
      "F               45254                446518        11509    4579\n",
      "M               55401                518457        10827    4406\n"
     ]
    }
   ],
   "source": [
    "#Agrupar o número de óbitos por género - Aparelho circulatório\n",
    "grouped_by_genero = df_circ.groupby ('Género')\n",
    "print(grouped_by_genero.sum())\n"
   ]
  },
  {
   "cell_type": "code",
   "execution_count": 12,
   "id": "c08aaea2",
   "metadata": {},
   "outputs": [
    {
     "name": "stdout",
     "output_type": "stream",
     "text": [
      "        Internamentos  Dias de Internamento  Ambulatório  Óbitos\n",
      "Género                                                          \n",
      "F               25308                212147         4499    4069\n",
      "M               31870                294182         5311    5228\n"
     ]
    }
   ],
   "source": [
    "#Agrupar o número de óbitos por género - Aparelho respiratório\n",
    "grouped_by_genero = df_respira.groupby ('Género')\n",
    "print(grouped_by_genero.sum())\n"
   ]
  },
  {
   "cell_type": "code",
   "execution_count": 13,
   "id": "b0a65a99",
   "metadata": {},
   "outputs": [
    {
     "name": "stdout",
     "output_type": "stream",
     "text": [
      "        Internamentos  Dias de Internamento  Ambulatório  Óbitos\n",
      "Género                                                          \n",
      "F                7621                154893            8      66\n",
      "M                7610                170008            3      79\n"
     ]
    }
   ],
   "source": [
    "#Agrupar o número de óbitos por género - Perturbações mentais\n",
    "grouped_by_genero = df_mental.groupby ('Género')\n",
    "print(grouped_by_genero.sum())\n"
   ]
  },
  {
   "cell_type": "code",
   "execution_count": 14,
   "id": "f8b9ba44",
   "metadata": {},
   "outputs": [
    {
     "data": {
      "image/png": "[encoded data removed]",
      "text/plain": [
       "<Figure size 432x288 with 1 Axes>"
      ]
     },
     "metadata": {},
     "output_type": "display_data"
    }
   ],
   "source": [
    "#Construção do gráfico circular apenas com os dados do sexo femenino\n",
    "labels = ['Apar. Circulatório', 'Apar. Respiratório','Perturbações mentais']\n",
    "sizes = [4579, 4069, 66]\n",
    "\n",
    "\n",
    "fig, ax = plt.subplots()\n",
    "ax.pie(sizes, labels=labels, autopct='%1.1f%%')\n",
    "ax.axis('equal')  # Equal aspect ratio ensures the pie chart is circular.\n",
    "ax.set_title('Número de óbitos em Portugal em 2021 no sexo feminino')\n",
    "\n",
    "plt.show()"
   ]
  },
  {
   "cell_type": "code",
   "execution_count": 15,
   "id": "7ce9813d",
   "metadata": {},
   "outputs": [
    {
     "data": {
      "image/png": "[encoded data removed]",
      "text/plain": [
       "<Figure size 432x288 with 1 Axes>"
      ]
     },
     "metadata": {},
     "output_type": "display_data"
    }
   ],
   "source": [
    "#Construção do gráfico circular apenas com os dados do sexo masculino\n",
    "labels = ['Apar. Circulatório', 'Apar. Respiratório','Perturbações mentais']\n",
    "sizes = [5228, 5228, 79]\n",
    "\n",
    "\n",
    "fig, ax = plt.subplots()\n",
    "ax.pie(sizes, labels=labels, autopct='%1.1f%%')\n",
    "ax.axis('equal')  # Equal aspect ratio ensures the pie chart is circular.\n",
    "ax.set_title('Número de óbitos em Portugal em 2021 no sexo masculino')\n",
    "\n",
    "plt.show()"
   ]
  },
  {
   "cell_type": "markdown",
   "id": "972c9b4c",
   "metadata": {},
   "source": [
    "O número de óbitos acentua-se em que faixa etária?"
   ]
  },
  {
   "cell_type": "code",
   "execution_count": 16,
   "id": "1a0d3e9f",
   "metadata": {},
   "outputs": [
    {
     "data": {
      "text/plain": [
       "Descrição da doença    object\n",
       "Faixa Etária           object\n",
       "Óbitos                  int64\n",
       "dtype: object"
      ]
     },
     "execution_count": 16,
     "metadata": {},
     "output_type": "execute_result"
    }
   ],
   "source": [
    "#Mortalidade no Aparelho circulatório\n",
    "\n",
    "#Como cada coluna é armanezada\n",
    "circ= df_circ.loc[ : ,[\"Descrição da doença\", \"Faixa Etária\", \"Óbitos\"]]\n",
    "circ.dtypes"
   ]
  },
  {
   "cell_type": "code",
   "execution_count": 17,
   "id": "76ada1c5",
   "metadata": {},
   "outputs": [
    {
     "data": {
      "text/plain": [
       "0      [5-15[\n",
       "1     [15-25[\n",
       "2    [65-120[\n",
       "3     [25-45[\n",
       "4     [25-45[\n",
       "Name: Faixa Etária, dtype: object"
      ]
     },
     "execution_count": 17,
     "metadata": {},
     "output_type": "execute_result"
    }
   ],
   "source": [
    "all_circ = circ[\"Faixa Etária\"]\n",
    "all_circ.head()"
   ]
  },
  {
   "cell_type": "code",
   "execution_count": 18,
   "id": "aa355ffb",
   "metadata": {},
   "outputs": [
    {
     "data": {
      "text/plain": [
       "[65-120[    1162\n",
       "[45-65[     1134\n",
       "[25-45[      929\n",
       "[15-25[      484\n",
       "[5-15[       164\n",
       "[1-5[         41\n",
       "[0-1[         31\n",
       "Name: Faixa Etária, dtype: int64"
      ]
     },
     "execution_count": 18,
     "metadata": {},
     "output_type": "execute_result"
    }
   ],
   "source": [
    "#Valores do nºde óbitos por faixa etária\n",
    "circ[\"Faixa Etária\"].value_counts()"
   ]
  },
  {
   "cell_type": "code",
   "execution_count": 19,
   "id": "e0799ef3",
   "metadata": {},
   "outputs": [
    {
     "data": {
      "image/png": "[encoded data removed]",
      "text/plain": [
       "<Figure size 432x288 with 1 Axes>"
      ]
     },
     "metadata": {
      "needs_background": "light"
     },
     "output_type": "display_data"
    }
   ],
   "source": [
    "#Construção do gráfico de barras sobre o nº de óbitos no aparelho circulatório por faixa etária\n",
    "circ[\"Faixa Etária\"].value_counts().plot(kind='bar', legend=True,)\n",
    "\n",
    "plt.title('Nº de óbitos por faixa etária no Aparelho circulatório') \n",
    "plt.show()"
   ]
  },
  {
   "cell_type": "code",
   "execution_count": 20,
   "id": "3119997a",
   "metadata": {},
   "outputs": [
    {
     "data": {
      "text/plain": [
       "[65-120[    1165\n",
       "[45-65[     1119\n",
       "[25-45[      988\n",
       "[15-25[      841\n",
       "[1-5[        829\n",
       "[5-15[       816\n",
       "[0-1[        631\n",
       "ERRO           1\n",
       "Name: Faixa Etária, dtype: int64"
      ]
     },
     "execution_count": 20,
     "metadata": {},
     "output_type": "execute_result"
    }
   ],
   "source": [
    "#Mortalidade no Aparelho respiratório\n",
    "\n",
    "#Como cada coluna é armanezada\n",
    "res= df_respira.loc[ : ,[\"Descrição da doença\", \"Faixa Etária\", \"Óbitos\"]]\n",
    "\n",
    "#Valores do nºde óbitos por faixa etária\n",
    "all_res= res[\"Faixa Etária\"]\n",
    "res[\"Faixa Etária\"].value_counts()"
   ]
  },
  {
   "cell_type": "code",
   "execution_count": 21,
   "id": "fa864bfb",
   "metadata": {},
   "outputs": [
    {
     "data": {
      "text/html": [
       "<div>\n",
       "<style scoped>\n",
       "    .dataframe tbody tr th:only-of-type {\n",
       "        vertical-align: middle;\n",
       "    }\n",
       "\n",
       "    .dataframe tbody tr th {\n",
       "        vertical-align: top;\n",
       "    }\n",
       "\n",
       "    .dataframe thead th {\n",
       "        text-align: right;\n",
       "    }\n",
       "</style>\n",
       "<table border=\"1\" class=\"dataframe\">\n",
       "  <thead>\n",
       "    <tr style=\"text-align: right;\">\n",
       "      <th></th>\n",
       "      <th>Descrição da doença</th>\n",
       "      <th>Óbitos</th>\n",
       "    </tr>\n",
       "    <tr>\n",
       "      <th>Faixa Etária</th>\n",
       "      <th></th>\n",
       "      <th></th>\n",
       "    </tr>\n",
       "  </thead>\n",
       "  <tbody>\n",
       "    <tr>\n",
       "      <th>ERRO</th>\n",
       "      <td>1</td>\n",
       "      <td>1</td>\n",
       "    </tr>\n",
       "    <tr>\n",
       "      <th>[0-1[</th>\n",
       "      <td>631</td>\n",
       "      <td>631</td>\n",
       "    </tr>\n",
       "    <tr>\n",
       "      <th>[1-5[</th>\n",
       "      <td>829</td>\n",
       "      <td>829</td>\n",
       "    </tr>\n",
       "    <tr>\n",
       "      <th>[15-25[</th>\n",
       "      <td>841</td>\n",
       "      <td>841</td>\n",
       "    </tr>\n",
       "    <tr>\n",
       "      <th>[25-45[</th>\n",
       "      <td>988</td>\n",
       "      <td>988</td>\n",
       "    </tr>\n",
       "    <tr>\n",
       "      <th>[45-65[</th>\n",
       "      <td>1119</td>\n",
       "      <td>1119</td>\n",
       "    </tr>\n",
       "    <tr>\n",
       "      <th>[5-15[</th>\n",
       "      <td>816</td>\n",
       "      <td>816</td>\n",
       "    </tr>\n",
       "    <tr>\n",
       "      <th>[65-120[</th>\n",
       "      <td>1165</td>\n",
       "      <td>1165</td>\n",
       "    </tr>\n",
       "  </tbody>\n",
       "</table>\n",
       "</div>"
      ],
      "text/plain": [
       "              Descrição da doença  Óbitos\n",
       "Faixa Etária                             \n",
       "ERRO                            1       1\n",
       "[0-1[                         631     631\n",
       "[1-5[                         829     829\n",
       "[15-25[                       841     841\n",
       "[25-45[                       988     988\n",
       "[45-65[                      1119    1119\n",
       "[5-15[                        816     816\n",
       "[65-120[                     1165    1165"
      ]
     },
     "execution_count": 21,
     "metadata": {},
     "output_type": "execute_result"
    }
   ],
   "source": [
    "#Descobrir porque há \"ERRO\"\n",
    "abc = res.groupby(\"Faixa Etária\").count()\n",
    "abc"
   ]
  },
  {
   "cell_type": "code",
   "execution_count": 22,
   "id": "df820adb",
   "metadata": {},
   "outputs": [
    {
     "data": {
      "text/plain": [
       "array(['[65-120[', '[15-25[', '[45-65[', '[25-45[', '[5-15[', '[0-1[',\n",
       "       'ERRO', '[1-5['], dtype=object)"
      ]
     },
     "execution_count": 22,
     "metadata": {},
     "output_type": "execute_result"
    }
   ],
   "source": [
    "res[\"Faixa Etária\"].unique()"
   ]
  },
  {
   "cell_type": "code",
   "execution_count": 23,
   "id": "49810289",
   "metadata": {},
   "outputs": [
    {
     "data": {
      "image/png": "[encoded data removed]",
      "text/plain": [
       "<Figure size 432x288 with 1 Axes>"
      ]
     },
     "metadata": {
      "needs_background": "light"
     },
     "output_type": "display_data"
    }
   ],
   "source": [
    "#Construção do gráfico de barras nº de óbitos no aparelho respiratório por faixa etária\n",
    "res[\"Faixa Etária\"].value_counts().plot(kind='bar', legend=True,)\n",
    "\n",
    "plt.title('Nº de óbitos por faixa etária no Aparelho respiratório') \n",
    "plt.show()"
   ]
  },
  {
   "cell_type": "code",
   "execution_count": 24,
   "id": "02c9d57c",
   "metadata": {},
   "outputs": [
    {
     "data": {
      "text/plain": [
       "[65-120[    864\n",
       "[45-65[     859\n",
       "[25-45[     756\n",
       "[15-25[     611\n",
       "[5-15[      148\n",
       "[1-5[        20\n",
       "[0-1[         8\n",
       "Name: Faixa Etária, dtype: int64"
      ]
     },
     "execution_count": 24,
     "metadata": {},
     "output_type": "execute_result"
    }
   ],
   "source": [
    "#Mortalidade em Pertrubações mentais\n",
    "\n",
    "#Como cada coluna é armanezada\n",
    "men= df_mental.loc[ : ,[\"Descrição da doença\", \"Faixa Etária\", \"Óbitos\"]]\n",
    "\n",
    "#Valores do nºde óbitos por faixa etária\n",
    "all_men= men[\"Faixa Etária\"]\n",
    "men[\"Faixa Etária\"].value_counts()"
   ]
  },
  {
   "cell_type": "code",
   "execution_count": 25,
   "id": "4ec306a2",
   "metadata": {},
   "outputs": [
    {
     "data": {
      "image/png": "[encoded data removed]",
      "text/plain": [
       "<Figure size 432x288 with 1 Axes>"
      ]
     },
     "metadata": {
      "needs_background": "light"
     },
     "output_type": "display_data"
    }
   ],
   "source": [
    "#Construção do gráfico de barras sobre nº de mortes nas perturbações mentais por faixa etária\n",
    "men[\"Faixa Etária\"].value_counts().plot(kind='bar', legend=True,)\n",
    "\n",
    "plt.title('Nº de óbitos por faixa etária nas pertrubações mentais') \n",
    "plt.show()"
   ]
  },
  {
   "cell_type": "markdown",
   "id": "eb039ec4",
   "metadata": {},
   "source": [
    "Qual a região do pais onde há maior mortalidade?"
   ]
  },
  {
   "cell_type": "code",
   "execution_count": 26,
   "id": "033f3fba",
   "metadata": {},
   "outputs": [
    {
     "data": {
      "text/html": [
       "<div>\n",
       "<style scoped>\n",
       "    .dataframe tbody tr th:only-of-type {\n",
       "        vertical-align: middle;\n",
       "    }\n",
       "\n",
       "    .dataframe tbody tr th {\n",
       "        vertical-align: top;\n",
       "    }\n",
       "\n",
       "    .dataframe thead th {\n",
       "        text-align: right;\n",
       "    }\n",
       "</style>\n",
       "<table border=\"1\" class=\"dataframe\">\n",
       "  <thead>\n",
       "    <tr style=\"text-align: right;\">\n",
       "      <th></th>\n",
       "      <th>Região</th>\n",
       "      <th>Óbitos</th>\n",
       "    </tr>\n",
       "  </thead>\n",
       "  <tbody>\n",
       "    <tr>\n",
       "      <th>0</th>\n",
       "      <td>Região de Saúde do Norte</td>\n",
       "      <td>0</td>\n",
       "    </tr>\n",
       "    <tr>\n",
       "      <th>1</th>\n",
       "      <td>Região de Saúde do Algarve</td>\n",
       "      <td>0</td>\n",
       "    </tr>\n",
       "    <tr>\n",
       "      <th>2</th>\n",
       "      <td>Região de Saúde do Algarve</td>\n",
       "      <td>23</td>\n",
       "    </tr>\n",
       "    <tr>\n",
       "      <th>3</th>\n",
       "      <td>Região de Saúde do Norte</td>\n",
       "      <td>0</td>\n",
       "    </tr>\n",
       "    <tr>\n",
       "      <th>4</th>\n",
       "      <td>Região de Saúde LVT</td>\n",
       "      <td>0</td>\n",
       "    </tr>\n",
       "  </tbody>\n",
       "</table>\n",
       "</div>"
      ],
      "text/plain": [
       "                       Região  Óbitos\n",
       "0    Região de Saúde do Norte       0\n",
       "1  Região de Saúde do Algarve       0\n",
       "2  Região de Saúde do Algarve      23\n",
       "3    Região de Saúde do Norte       0\n",
       "4         Região de Saúde LVT       0"
      ]
     },
     "execution_count": 26,
     "metadata": {},
     "output_type": "execute_result"
    }
   ],
   "source": [
    "#Mortalidade no Aparelho circulatório\n",
    "\n",
    "#Selecionar apenas os dados da coluna \"RRegião\", \"Óbitos\"\n",
    "regiao_circ = df_circ.loc[ : ,[\"Região\", \"Óbitos\"]]\n",
    "regiao_circ.head()"
   ]
  },
  {
   "cell_type": "code",
   "execution_count": 27,
   "id": "dd569a08",
   "metadata": {},
   "outputs": [
    {
     "data": {
      "text/plain": [
       "Região de Saúde do Norte       1281\n",
       "Região de Saúde LVT            1237\n",
       "Região de Saúde do Centro       762\n",
       "Região de Saúde do Alentejo     279\n",
       "Região de Saúde dos Açores      214\n",
       "Região de Saúde do Algarve       98\n",
       "Região de Saúde da Madeira       74\n",
       "Name: Região, dtype: int64"
      ]
     },
     "execution_count": 27,
     "metadata": {},
     "output_type": "execute_result"
    }
   ],
   "source": [
    "#Valores do nºde óbitos por região\n",
    "regiao = regiao_circ[\"Região\"]\n",
    "regiao_circ[\"Região\"].value_counts()"
   ]
  },
  {
   "cell_type": "code",
   "execution_count": 28,
   "id": "49f53439",
   "metadata": {},
   "outputs": [
    {
     "data": {
      "text/plain": [
       "Região de Saúde do Norte       2155\n",
       "Região de Saúde LVT            2038\n",
       "Região de Saúde do Centro      1209\n",
       "Região de Saúde do Alentejo     387\n",
       "Região de Saúde dos Açores      347\n",
       "Região de Saúde do Algarve      157\n",
       "Região de Saúde da Madeira       97\n",
       "Name: Região, dtype: int64"
      ]
     },
     "execution_count": 28,
     "metadata": {},
     "output_type": "execute_result"
    }
   ],
   "source": [
    "#Mortalidade no Aparelho respiratório\n",
    "\n",
    "#Selecionar apenas os dados da coluna \"Região\", \"Óbitos\"\n",
    "regiao_res = df_respira.loc[ : ,[\"Região\", \"Óbitos\"]]\n",
    "\n",
    "#Valores do nºde óbitos por região\n",
    "regiao = regiao_res[\"Região\"]\n",
    "regiao_res[\"Região\"].value_counts()"
   ]
  },
  {
   "cell_type": "code",
   "execution_count": 29,
   "id": "add5efcd",
   "metadata": {},
   "outputs": [
    {
     "data": {
      "text/plain": [
       "Região de Saúde LVT            1234\n",
       "Região de Saúde do Norte       1006\n",
       "Região de Saúde do Centro       587\n",
       "Região de Saúde do Alentejo     198\n",
       "Região de Saúde do Algarve      106\n",
       "Região de Saúde dos Açores      102\n",
       "Região de Saúde da Madeira       33\n",
       "Name: Região, dtype: int64"
      ]
     },
     "execution_count": 29,
     "metadata": {},
     "output_type": "execute_result"
    }
   ],
   "source": [
    "#Mortalidade em Perturbações mentais\n",
    "\n",
    "#Selecionar apenas os dados da coluna \"Região\", \"Óbitos\"\n",
    "regiao_men = df_mental.loc[ : ,[\"Região\", \"Óbitos\"]]\n",
    "\n",
    "#Valores do nºde óbitos por região\n",
    "regiao = regiao_men[\"Região\"]\n",
    "regiao_men[\"Região\"].value_counts()"
   ]
  },
  {
   "cell_type": "code",
   "execution_count": 30,
   "id": "0226934b",
   "metadata": {},
   "outputs": [
    {
     "data": {
      "text/plain": [
       "[Região de Saúde LVT            4509\n",
       " Região de Saúde da Madeira      204\n",
       " Região de Saúde do Alentejo     864\n",
       " Região de Saúde do Algarve      361\n",
       " Região de Saúde do Centro      2558\n",
       " Região de Saúde do Norte       4442\n",
       " Região de Saúde dos Açores      663\n",
       " Name: Região, dtype: int64]"
      ]
     },
     "execution_count": 30,
     "metadata": {},
     "output_type": "execute_result"
    }
   ],
   "source": [
    "#Total de todos os valores de óbitos por região juntos\n",
    "all_together = [regiao_circ[\"Região\"].value_counts()+regiao_res[\"Região\"].value_counts()+regiao_men[\"Região\"].value_counts()]\n",
    "all_together"
   ]
  },
  {
   "cell_type": "code",
   "execution_count": 31,
   "id": "a27d284f",
   "metadata": {},
   "outputs": [
    {
     "data": {
      "image/png": "[encoded data removed]",
      "text/plain": [
       "<Figure size 432x288 with 1 Axes>"
      ]
     },
     "metadata": {
      "needs_background": "light"
     },
     "output_type": "display_data"
    }
   ],
   "source": [
    "#Construção do gráfico de barras horizontais sobre a mortalidade por região\n",
    "objects = ('Reg.LVT', 'Reg.da Madeira', 'Reg.do Alentejo', 'Reg.do Algarve ', ' Reg.do Centro', 'Reg.do Norte', 'Reg.dos Açores')\n",
    "y_pos = np.arange(len(objects))\n",
    "performance = [4509,204,864,361,2558,4442,663]\n",
    "\n",
    "plt.barh(y_pos, performance, align='center', alpha=0.5)\n",
    "plt.yticks(y_pos, objects)\n",
    "plt.xlabel('Usage')\n",
    "plt.title('Número de óbitos por região')\n",
    "\n",
    "plt.show()"
   ]
  },
  {
   "cell_type": "markdown",
   "id": "f0697f9c",
   "metadata": {},
   "source": [
    "Qual foi a maior causa de morte em Portugal?"
   ]
  },
  {
   "cell_type": "code",
   "execution_count": 32,
   "id": "615b2e52",
   "metadata": {},
   "outputs": [
    {
     "data": {
      "image/png": "[encoded data removed]",
      "text/plain": [
       "<Figure size 432x288 with 1 Axes>"
      ]
     },
     "metadata": {},
     "output_type": "display_data"
    }
   ],
   "source": [
    "#Número de óbitos por doença\n",
    "\n",
    "#Buscou-se os valores que já tinhamos selecionado anteriormente na pergunta número dois.\n",
    "#Na segunda pergunta agrupou-se os dados por género através da função group_by.\n",
    "#Assim somou-se o número total de óbitos de cada género por tipo de doença. \n",
    "\n",
    "#Construção do gráfico circular sobre as causas de morte em Potugal no ano de 2021\n",
    "labels = ['Apar. Circulatório', 'Apar. Respiratório','Perturbações mentais']\n",
    "sizes = [9807,9297,145]\n",
    "\n",
    "fig, ax = plt.subplots()\n",
    "ax.pie(sizes, labels=labels, autopct='%1.1f%%')\n",
    "ax.axis('equal')  # Equal aspect ratio ensures the pie chart is circular.\n",
    "ax.set_title('Maior causa de morte em Portugal em 2021')\n",
    "\n",
    "plt.show()"
   ]
  }
 ],
 "metadata": {
  "kernelspec": {
   "display_name": "Python 3 (ipykernel)",
   "language": "python",
   "name": "python3"
  },
  "language_info": {
   "codemirror_mode": {
    "name": "ipython",
    "version": 3
   },
   "file_extension": ".py",
   "mimetype": "text/x-python",
   "name": "python",
   "nbconvert_exporter": "python",
   "pygments_lexer": "ipython3",
   "version": "3.9.7"
  }
 },
 "nbformat": 4,
 "nbformat_minor": 5
}
